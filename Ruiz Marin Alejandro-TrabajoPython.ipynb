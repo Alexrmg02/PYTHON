{
 "cells": [
  {
   "cell_type": "markdown",
   "metadata": {},
   "source": [
    "# TRABAJO DE PYTHON\n",
    "\n",
    "### Este trabajo cuenta el 30% de la nota. La entrega será el 5 de Noviembre a las 23:59.\n",
    "\n",
    "### Resuelve los siguientes ejercicios en Python sin usar expresiones regulares\n",
    "\n",
    "\n",
    "\n",
    "## Alejandro Ruiz Marin\n",
    "### Observaciones: Los ejercicios estan resueltos paso a paso, explicados debajo de cada codigo y indicados los pasos en el código\n",
    "\n",
    "\n",
    "\n",
    "\n",
    "\n",
    "\n",
    "\n"
   ]
  },
  {
   "cell_type": "markdown",
   "metadata": {},
   "source": [
    "### 1.- BUSCA LA SECUENCIA COMPLEMENTARIA\n",
    "#### Devuelve la secuencia complementaria de la siguiente secuencia de ADN"
   ]
  },
  {
   "cell_type": "code",
   "execution_count": 27,
   "metadata": {},
   "outputs": [
    {
     "name": "stdout",
     "output_type": "stream",
     "text": [
      "TGACTAGCTAATGCATATCATAAACGATAGTATGTATATATAGCTACGCAAGTA\n"
     ]
    }
   ],
   "source": [
    "my_dna = \"ACTGATCGATTACGTATAGTATTTGCTATCATACATATATATCGATGCGTTCAT\"\n",
    "# paso 1,2,3\n",
    "def secuencia_complementaria (dna):\n",
    "    biblioteca = {'A': 'T', 'T': 'A', 'C': 'G', 'G': 'C'}\n",
    "    secuencia_complementaria = ''.join(biblioteca [base] for base in dna)\n",
    "    return secuencia_complementaria\n",
    "# paso 4\n",
    "complemento = secuencia_complementaria(my_dna)\n",
    "# paso 5\n",
    "print(complemento)\n"
   ]
  },
  {
   "cell_type": "markdown",
   "metadata": {},
   "source": [
    "### Pasos a serguir:\n",
    "#### 1. Primero, creamos una función que he llamado secuencia_complementaria.(Que basicamente va calcular la secuencia complementaria)\n",
    "\n",
    "#### 2. Creamos un diccionario que he llamado biblioteca que define para cada variable de la cadena original (A) se mapea a (T), etc...\n",
    "\n",
    "#### 3. Creamos una variable llamada (secuencia_complementaria) y utilizamos una de lista para que por cada base en la secuencia de ADN original (dna) encontra su complemento utilizando el diccionario biblioteca. \n",
    "#### 3.1 Se crea una nueva cadena con las bases complementarias.\n",
    "\n",
    "#### 4. Guardamos nuestra secuencia complementaria en la variable (secuencia_complementaria).\n",
    "\n",
    "#### 5. Imprimimos la secuencia complementaria en la pantalla usando (print(secuencia_complementaria)."
   ]
  },
  {
   "cell_type": "markdown",
   "metadata": {},
   "source": [
    "##\n",
    "### 2.- FRAGMENTOS DE RESTRICCION\n",
    "#### Obtén los fragmentos de restricción de EcoRI, que tiene un sitio de corte en G*AATTC (la posición de corte se indica por el *).\n",
    "#### No uses expresiones regulares. \n",
    "#### Pista: utiliza la función find()"
   ]
  },
  {
   "cell_type": "code",
   "execution_count": 28,
   "metadata": {
    "scrolled": true
   },
   "outputs": [
    {
     "name": "stdout",
     "output_type": "stream",
     "text": [
      "Fragmento 1: ACTGATCGATTACGTATAGTATTTGCTATG\n",
      "Fragmento 2: AATTCCATACATATATATCGATGCGTTCAT\n"
     ]
    }
   ],
   "source": [
    "ADN = \"ACTGATCGATTACGTATAGTATTTGCTATGAATTCCATACATATATATCGATGCGTTCAT\"\n",
    "# paso 1\n",
    "cortar = ADN.find(\"GAATTC\")\n",
    "# paso 2,3,4\n",
    "if cortar != -1:\n",
    "    fragmento1 = ADN [:cortar + 1] \n",
    "    fragmento2 = ADN [cortar + 1:]\n",
    "# paso 4.1\n",
    "    print(\"Fragmento 1:\", fragmento1)\n",
    "    print(\"Fragmento 2:\", fragmento2)\n",
    "else:\n",
    "    print(\"No se encontró el famosísimo sitio de corte en la secuencia de ADN.\")\n",
    "# paso 5"
   ]
  },
  {
   "cell_type": "markdown",
   "metadata": {},
   "source": [
    "### Pasos a serguir:\n",
    "#### 1.Definimos la variable corte con la función find que encuentra la posición del sitio que estamos buscando en este caso la secuencia GAATTC\n",
    "\n",
    "#### 2.Definimos una variable llamada cortar que encontrara la posición del sitio de corte de EcoRI en la secuencia de ADN. Usando la función find().\n",
    "\n",
    "#### 3.Creamos una condicion, si: (if cortar != -1): (si encuentra en la secuencia de ADN). Si cortar es igual a -1, significa que no encontró el sitio de corte por tanto (else) imprime mensaje diciendo que no encontró el famosisímo sitio de corte en la secuencia de ADN.\n",
    "\n",
    "#### 4.Si se encuentra el sitio de corte divide la secuencia de ADN en dos fragmentos en la posición del sitio de corte, usando fragmento1 = my_dna[:cortar + 1]:(Que abarca desde el principio hasta la posición del sitio de corte más uno)(El +1 es para incluir el último nucleótido)\n",
    "\n",
    "#### 4.1 Y para el otro fragmento igual incluyendo todos los caracteres desde la terminacion del otro fragmento hasta el final de la secuencia.\n",
    "\n",
    "#### 5.Incluimos print para indicar cuál es el fragmento 1 y cuál es el fragmento 2."
   ]
  },
  {
   "cell_type": "markdown",
   "metadata": {},
   "source": [
    "##\n",
    "### 3.- ENCUENTRA LOS EXONES\n",
    "#### Encuentra los exones en la siguiente secuencia\n",
    "1. El primer exón va de la primera base a la base 63 (empieza a contar desde 0)\n",
    "2. El segundo exón va de la base 91 (contando desde 0) hasta el final\n",
    "3. Calcula el porcentaje de secuencia codificante\n",
    "4. Imprime en pantalla la secuencia original con los exones en mayúsculas y los intrones en minúsculas"
   ]
  },
  {
   "cell_type": "code",
   "execution_count": 2,
   "metadata": {},
   "outputs": [
    {
     "name": "stdout",
     "output_type": "stream",
     "text": [
      "Primer exón: ATCGATCGATCGATCGACTGACTAGTCATAGCTATGCATGTAGCTACTCGATCGATCGATCGA\n",
      "Segundo exón: TCATCGATCGATATCGATGCATCGACTACTAT\n",
      "Intrones: tcgatcgatcgatcgatcgatcatgcta\n",
      "\n",
      "\n",
      "Secuencia Total: ATCGATCGATCGATCGACTGACTAGTCATAGCTATGCATGTAGCTACTCGATCGATCGATCGAtcgatcgatcgatcgatcgatcatgctaTCATCGATCGATATCGATGCATCGACTACTAT\n",
      "\n",
      "\n",
      "Porcentaje de secuencia codificante: 77.23577235772358 %\n"
     ]
    }
   ],
   "source": [
    "ADN = \"ATCGATCGATCGATCGACTGACTAGTCATAGCTATGCATGTAGCTACTCGATCGATCGATCGATCGATCGATCGATCGATCGATCATGCTATCATCGATCGATATCGATGCATCGACTACTAT\"\n",
    "\n",
    "# Paso 1\n",
    "primer_exon_inicio = 0\n",
    "primer_exon_fin = 63\n",
    "segundo_exon_inicio = 91\n",
    "segundo_exon_fin = len(ADN)\n",
    "\n",
    "# Paso 2\n",
    "primer_exon = ADN[primer_exon_inicio:primer_exon_fin]\n",
    "segundo_exon = ADN[segundo_exon_inicio:segundo_exon_fin]\n",
    "intrones = ADN[primer_exon_fin:segundo_exon_inicio]\n",
    "\n",
    "# Paso 3\n",
    "secuencia_codificante = primer_exon + segundo_exon\n",
    "secuencia_total = primer_exon + intrones.lower() + segundo_exon\n",
    "# Paso 4\n",
    "longitud_secuencia_codificante = len(secuencia_codificante)\n",
    "longitud_ADN = len(ADN)\n",
    "porcentaje_codificante = (longitud_secuencia_codificante / longitud_ADN) * 100\n",
    "\n",
    "# Paso 5\n",
    "print(\"Primer exón:\", primer_exon)\n",
    "print(\"Segundo exón:\", segundo_exon)\n",
    "print(\"Intrones:\", intrones.lower())\n",
    "print(\"\\n\")\n",
    "print(\"Secuencia Total:\", secuencia_total)\n",
    "print(\"\\n\")\n",
    "print(\"Porcentaje de secuencia codificante:\", porcentaje_codificante, \"%\")\n"
   ]
  },
  {
   "cell_type": "markdown",
   "metadata": {},
   "source": [
    "### Pasos a serguir:\n",
    "#### 1.Elegimos los límites de los exones\n",
    "#### 1.1 Primer exon desde el inicio (= 0: posición 0 (primer base)) al final del primer exón (fin = 63)\n",
    "#### 1.2 Segundo exon desde la posicion de inicio (= 91) hasta el final = len(genomic_dna) (finalizacion de longitud total de nuestra secuencia)\n",
    "\n",
    "#### 2. Extraer los exones e intrones:\n",
    "#### 2.1 primer_exon = genomic_dna[primer_exon_inicio:primer_exon_fin] se toma una cadena de nuestro adn desde el primer exon hasta el primer exon del final.\n",
    "#### 2.2 segundo_exon = genomic_dna[segundo_exon_inicio:segundo_exon_fin] igual que el anterior.\n",
    "#### 2.3 intrones = genomic_dna[primer_exon_fin:segundo_exon_inicio] Se extraen la secuencia del final de uno y comienzo del otro\n",
    "\n",
    "#### 3.Se crea una variable de lo que seria la secuencia codificante uniendo el primer_exon mas el segundo exon\n",
    "#### 3.Se crea una variable de lo que seria la secuencia total uniendo el primer_exon, mas los intrones.lower() mas el segundo exon\n",
    "#### 3.1(exones en mayúsculas e intrones en minúsculas)\n",
    "\n",
    "#### 4.Calcular el porcentaje de nuestra secuencia codificante:Para ello tendremos que dividir nuestra secuencia codificante (el numero de bases que hay dentro lo que seria equivalente a su longitud) entre el total de numero de bases o longitud total de nuestra cadena de ADN * 100 para poder sacar el resultado en porcentaje\n",
    "#### 4.1Creamos una variable que reunira la informacion de la longitud total de la secuencia codificante que hemos calculado previamente sumando todas las partes de las cadenas codificantes longitud_secuencia_codificante = len(secuencia_codificante)\n",
    "#### 4.2Lo mismo con la cadena original longitud_genomic_dna = len(ADN).\n",
    "#### 4.3Realizamos la operacion para sacarlo el porcentaje de la secuencia codificante: porcentaje_codificante= (longitud_secuencia_codificante / longitud_ADN) * 100\n",
    "\n",
    "#### 5.Imprimir los resultados de los exones, intrones, secuencia codificante y el porcentaje de secuencia codificante.\n",
    "\n"
   ]
  },
  {
   "cell_type": "markdown",
   "metadata": {},
   "source": [
    "##\n",
    "### 4.- ESCRIBE UN ARCHIVO FASTA\n",
    "#### Escribe un archivo FASTA que tenga las siguientes secuencias:\n",
    "1. ABC123 \tATCGTACGATCGATCGATCGCTAGACGTATCG\n",
    "2. DEF456 \tactgatcgacgatcgatcgatcacgact\n",
    "3. HIJ789 \tACTGAC-ACTGT--ACTGTA----CATGTG\n",
    "\n",
    "###### *Ten en cuenta que todas las secuencias deben tener solo ATGC caracteres y tienen que estar en mayúsculas\n",
    "###### Recuerda que las secuencias en FASTA empiezan por una línea \">identificador\" y la siguiente línea tiene la secuencia\n",
    "\n",
    "###### >ABC123\n",
    "###### ATCGTACGATCGATCGATCGCTAGACGTATCG\n",
    "###### >DEF456\n",
    "###### ACTGATCGACGATCGATCGATCACGACT\n",
    "###### >HIJ789\n",
    "###### ACTGACACTGTACTGTACATGTG"
   ]
  },
  {
   "cell_type": "code",
   "execution_count": 7,
   "metadata": {},
   "outputs": [
    {
     "name": "stdout",
     "output_type": "stream",
     "text": [
      "Se ha creado el archivo secuencias_fasta_ejer4.fasta\n"
     ]
    }
   ],
   "source": [
    "# paso 1\n",
    "secuencias = {\n",
    "    'ABC123': 'ATCGTACGATCGATCGATCGCTAGACGTATCG',\n",
    "    'DEF456': 'ACTGATCGACGATCGATCGATCACGACT',\n",
    "    'HIJ789': 'ACTGACACTGTACTGTACATGTG'\n",
    "}\n",
    "\n",
    "# paso 2\n",
    "secuencias_de_ADN = 'secuencias_fasta_ejer4.fasta'\n",
    "\n",
    "# paso 3\n",
    "with open(secuencias_de_ADN, 'w') as archivo:\n",
    "# paso 4,.1,.2,.3\n",
    "    for identificador, secuencia in secuencias.items():\n",
    "        archivo.write(f'>{identificador}\\n')\n",
    "        archivo.write(secuencia.upper() + '\\n')\n",
    "# paso 5\n",
    "print(f'Se ha creado el archivo {secuencias_de_ADN}')\n"
   ]
  },
  {
   "attachments": {
    "Captura%20de%20pantalla%202023-10-27%20222815.png": {
     "image/png": "[encoded data removed]"
    }
   },
   "cell_type": "markdown",
   "metadata": {},
   "source": [
    "![Captura%20de%20pantalla%202023-10-27%20222815.png](attachment:Captura%20de%20pantalla%202023-10-27%20222815.png)"
   ]
  },
  {
   "cell_type": "markdown",
   "metadata": {},
   "source": [
    "### Pasos a serguir:\n",
    "#### 1.Creamos un diccionario, y definimos y almacenamos las secuencias con sus respectivos identificadores\n",
    "\n",
    "#### 2.Nombre el archivo FASTA como \"secuencias.fasta\", y guardaremos las secuencias en formato FASTA.\n",
    "\n",
    "#### 3. Creamos una función  con open() que abre el archivo de salida en modo escritura (\"w\"). (Esto crea el archivo o lo sobrescribe si ya existe).(Con with hace que el archivo se cierre automáticamente después de escribir en él)\n",
    "\n",
    "#### 4. Creamos un Bucle con:\n",
    "\n",
    "#### 4.1 for identificador, secuencia in d.items(): Asociamos el identificador FASTA, y la secuencia de nucleótidos asociada a ese identificador.\n",
    "\n",
    "#### 4.2 archivo.write(f\">{identificador}\\n\"): El identificador en el formato FASTA, con su simbolo > y el salto de \"\\n\".\n",
    "\n",
    "#### 4.3 archivo.write(secuencia.upper() + \"\\n\"): Convertir a mayúsculas la secuencia utilizando la función upper() y le añadimos \"\\n\" para separarla de la próxima secuencia.\n",
    "\n",
    "#### 5. Imprimir un mensaje de la creación del archivo.\n",
    "\n"
   ]
  },
  {
   "cell_type": "markdown",
   "metadata": {},
   "source": [
    "##\n",
    "### 5.- ELIMINA ADAPTADORES\n",
    "#### El archivo input.txt tiene unas secuencias de ADN, una por línea. \n",
    "#### Todas las secuencias empiezan con el mismo adaptador que llega hasta la base 14. Escribe un programa que:\n",
    "1. Remueva el adaptador de la secuencia y escriba la secuencia limpia en un archivo\n",
    "2. Imprima en pantalla la longitud de cada secuencia limpia"
   ]
  },
  {
   "cell_type": "code",
   "execution_count": 6,
   "metadata": {},
   "outputs": [
    {
     "name": "stdout",
     "output_type": "stream",
     "text": [
      "Longitud de la secuencia limpia: 42\n",
      "Longitud de la secuencia limpia: 37\n",
      "Longitud de la secuencia limpia: 48\n",
      "Longitud de la secuencia limpia: 33\n",
      "Longitud de la secuencia limpia: 47\n",
      "\n",
      "\n",
      "Secuencias limpias escritas en el archivo secuencias_limpias.txt\n"
     ]
    }
   ],
   "source": [
    "# paso 1\n",
    "archivo_entrada = \"input.txt\"\n",
    "archivo_salida = \"secuencias_limpias.txt\"\n",
    "\n",
    "def Removedor_de_adaptador(secuencia):\n",
    "    return secuencia [14:]\n",
    "# paso 2\n",
    "secuencias_limpias = []\n",
    "longitudes = []\n",
    "\n",
    "# paso 3, 4, 4.1\n",
    "with open(archivo_entrada, \"r\") as entrada:\n",
    "    for linea in entrada:\n",
    "        secuencia = linea.strip() \n",
    "        secuencia_limpia = Removedor_de_adaptador (secuencia) \n",
    "        secuencias_limpias.append(secuencia_limpia)\n",
    "        longitudes.append (len(secuencias_limpias))\n",
    "\n",
    "# paso 5, 6\n",
    "with open(archivo_salida, \"w\") as salida:\n",
    "    for secuencia in secuencias_limpias:\n",
    "        salida.write(secuencia + \"\\n\")\n",
    "\n",
    "# paso 7\n",
    "for secuencia in secuencias_limpias:\n",
    "    print(f\"Longitud de la secuencia limpia: {len(secuencia)}\")\n",
    "print(\"\\n\")\n",
    "print(\"Secuencias limpias escritas en el archivo\", archivo_salida)\n",
    "\n"
   ]
  },
  {
   "attachments": {
    "Captura%20de%20pantalla%202023-10-28%20130937.png": {
     "image/png": "[encoded data removed]"
    }
   },
   "cell_type": "markdown",
   "metadata": {},
   "source": [
    "![Captura%20de%20pantalla%202023-10-28%20130937.png](attachment:Captura%20de%20pantalla%202023-10-28%20130937.png)"
   ]
  },
  {
   "cell_type": "markdown",
   "metadata": {},
   "source": [
    "### Pasos a serguir:\n",
    "#### 1. Definimos los nombres de los archivos de entrada (input.txt) y salida (secuencias_limpias.txt).\n",
    "#### 1.1 La funciónde (Removedor_de...)  devolverá la parte de la secuencia que comienza desde el carácter en la posición 14 \n",
    "\n",
    "#### 2. Creamos una lista para almacenar las secuencias de ADN limpias y longitudes.\n",
    "\n",
    "#### 3. Abrimos el archivo de entrada en modo lectura y recorremos cada línea del archivo.\n",
    "\n",
    "#### 4. Eliminamos los espacios en blanco y saltos de línea de la secuencia utilizando strip(). \n",
    "#### 4.1 Luego, eliminamos los primeros 14 caracteres del adaptador para dejar la secuencia limpia y la agregamos a la lista secuencias_limpias.\n",
    "\n",
    "#### 5. Abrimos el archivo de salida en modo escritura y escribimos cada secuencia limpia en una nueva línea del archivo.\n",
    "\n",
    "#### 6. Iteramos a través de la lista de secuencias limpias e imprimimos la longitud de cada secuencia.\n",
    "\n",
    "#### 7. Imprimimos mensaje indicando las secuencias limpias que se han escrito en el archivo de salida."
   ]
  },
  {
   "cell_type": "markdown",
   "metadata": {},
   "source": [
    "##\n",
    "### 6.- PORCENTAJE DE AMINO ACIDOS\n",
    "#### Escribe una función que tome dos argumentos: una secuencia de proteínas y un amino ácido. \n",
    "#### Queremos que devuelva el porcentaje del amino ácido en la secuencia de proteínas. \n",
    "#### Una vez que tengas hecha tu función, emplea las siguientes aserciones para comprobar tu código."
   ]
  },
  {
   "cell_type": "code",
   "execution_count": 5,
   "metadata": {},
   "outputs": [
    {
     "name": "stdout",
     "output_type": "stream",
     "text": [
      "Porcentaje de 'M' en la secuencia: 5.0%\n",
      "\n",
      "\n",
      "Porcentaje de 'r' en la secuencia: 10.0%\n",
      "\n",
      "\n",
      "Porcentaje de 'L' en la secuencia: 50.0%\n",
      "\n",
      "\n",
      "Porcentaje de 'y' en la secuencia: 0.0%\n"
     ]
    }
   ],
   "source": [
    "# paso 1\n",
    "def calcular_porcentaje_aminoacido(secuencia_proteina, aminoacido):\n",
    "# paso 2, 3\n",
    "    secuencia_proteina = secuencia_proteina.upper()\n",
    "    aminoacido = aminoacido.upper()\n",
    "    \n",
    "# paso 4\n",
    "    conteo_aminoacido = secuencia_proteina.count(aminoacido)\n",
    "    \n",
    "# paso 5\n",
    "    porcentaje = (conteo_aminoacido / len(secuencia_proteina)) * 100\n",
    "    \n",
    "# paso 6   \n",
    "    return porcentaje\n",
    "\n",
    "# paso 7,8,9.\n",
    "assert calcular_porcentaje_aminoacido(\"MSRSLLLRFLLFLLLLPPLP\", \"M\") == 5\n",
    "resultado = calcular_porcentaje_aminoacido(\"MSRSLLLRFLLFLLLLPPLP\", \"M\")\n",
    "assert resultado == 5\n",
    "print(f\"Porcentaje de 'M' en la secuencia: {resultado}%\")\n",
    "print(\"\\n\")\n",
    "\n",
    "assert calcular_porcentaje_aminoacido(\"MSRSLLLRFLLFLLLLPPLP\", \"r\") == 10\n",
    "resultado = calcular_porcentaje_aminoacido(\"MSRSLLLRFLLFLLLLPPLP\", \"r\")\n",
    "assert resultado == 10\n",
    "print(f\"Porcentaje de 'r' en la secuencia: {resultado}%\")\n",
    "print(\"\\n\")\n",
    "\n",
    "assert calcular_porcentaje_aminoacido(\"MSRSLLLRFLLFLLLLPPLP\", \"L\") == 50\n",
    "resultado = calcular_porcentaje_aminoacido(\"MSRSLLLRFLLFLLLLPPLP\", \"L\")\n",
    "assert resultado == 50\n",
    "print(f\"Porcentaje de 'L' en la secuencia: {resultado}%\")\n",
    "print(\"\\n\")\n",
    "\n",
    "assert calcular_porcentaje_aminoacido(\"MSRSLLLRFLLFLLLLPPLP\", \"Y\") == 0\n",
    "resultado = calcular_porcentaje_aminoacido(\"MSRSLLLRFLLFLLLLPPLP\", \"Y\")\n",
    "assert resultado == 0\n",
    "print(f\"Porcentaje de 'y' en la secuencia: {resultado}%\")"
   ]
  },
  {
   "cell_type": "markdown",
   "metadata": {},
   "source": [
    "### Pasos a serguir:\n",
    "\n",
    "#### 1. Creamos una funcion: (def calcular_porce...) : que usa dos argumentos: la secuencia de la proteina donde buscará el aminoácido y el aminoacido que contara.\n",
    "\n",
    "#### 2. Creamos la función (secuencia_proteina = secuenc...): Convierte la secuencia de proteínas a mayúsculas. Para detecte el aminoácido tanto en mayúsculas como minúsculas.\n",
    "\n",
    "#### 3. Creamos función (aminoacido = aminoacido.upper()): Convierte el aminoácido a mayúsculas.\n",
    "\n",
    "#### 4. Creamos función (conteo_aminoacido = secuencia_protei...): Usando count() para contar cuántas veces aparece el aminoácido en la secuencia de proteínas en mayúsculas. \n",
    "\n",
    "#### 4.1 El resultado se almacena en la variable conteo_aminoacido.\n",
    "\n",
    "#### 5. Para calcular el porcentaje dividiendo el número de veces que se encontró el aminoácido en la secuencia entre la longitud total de la secuencia de proteínas y luego lo multiplicamos por 100 para obtener el porcentaje.\n",
    "\n",
    "#### 6. Usamos la función return porcentaje para devolver el porcentaje calculado.\n",
    "\n",
    "#### 7. Para verificar si la función (calcular_porcentaje_aminoacido) devuelve el valor esperado (5%) cuando la secuencia sea \"MSRSLLLRFLLFLLLLPPLP\" y el aminoácido \"M\". Si no devuelve 5, se generara un error.\n",
    "\n",
    "#### 8. Llamamos a la función (calcular_porcentaje_aminoacido) con la misma secuencia de proteínas y aminoácido, pero esta vez el resultado se almacena en la variable (resultado).\n",
    "\n",
    "#### 9. Imprimimos un mensaje que muestra el porcentaje del aminoácido que corresponda en la secuencia de proteínas."
   ]
  }
 ],
 "metadata": {
  "kernelspec": {
   "display_name": "Python 3 (ipykernel)",
   "language": "python",
   "name": "python3"
  },
  "language_info": {
   "codemirror_mode": {
    "name": "ipython",
    "version": 3
   },
   "file_extension": ".py",
   "mimetype": "text/x-python",
   "name": "python",
   "nbconvert_exporter": "python",
   "pygments_lexer": "ipython3",
   "version": "3.11.4"
  }
 },
 "nbformat": 4,
 "nbformat_minor": 4
}
