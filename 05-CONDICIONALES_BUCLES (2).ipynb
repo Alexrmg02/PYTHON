{
 "cells": [
  {
   "cell_type": "markdown",
   "id": "9e009697",
   "metadata": {},
   "source": [
    "###  IF, ELIF, ELSE"
   ]
  },
  {
   "cell_type": "code",
   "execution_count": null,
   "id": "933a0413",
   "metadata": {},
   "outputs": [],
   "source": [
    "# Ten cuidado con las identaciones!!!!\n",
    "if True:\n",
    "        print('It was true!')"
   ]
  },
  {
   "cell_type": "code",
   "execution_count": null,
   "id": "2ae90f74",
   "metadata": {
    "scrolled": true
   },
   "outputs": [],
   "source": [
    "x = False\n",
    "\n",
    "if x:\n",
    "        print('x was True!')\n",
    "else:\n",
    "        print('I will be printed in any case where x is not true')"
   ]
  },
  {
   "cell_type": "code",
   "execution_count": null,
   "id": "eeff67ea",
   "metadata": {},
   "outputs": [],
   "source": [
    "loc = 'Bank'\n",
    "\n",
    "if loc == 'Auto Shop':\n",
    "    print('Welcome to the Auto Shop!')\n",
    "elif loc == 'Bank':\n",
    "    print('Welcome to the bank!')\n",
    "else:\n",
    "    print('Where are you?')"
   ]
  },
  {
   "cell_type": "code",
   "execution_count": null,
   "id": "9578d0b2",
   "metadata": {
    "scrolled": true
   },
   "outputs": [],
   "source": [
    "person = 'Sammy'\n",
    "\n",
    "if person == 'Sammy':\n",
    "    print('Welcome Sammy!')\n",
    "else:\n",
    "    print(\"Welcome, what's your name?\")"
   ]
  },
  {
   "cell_type": "code",
   "execution_count": null,
   "id": "7328736a",
   "metadata": {
    "scrolled": true
   },
   "outputs": [],
   "source": [
    "person = 'George'\n",
    "\n",
    "if person == 'Sammy':\n",
    "    print('Welcome Sammy!')\n",
    "elif person =='George':\n",
    "    print('Welcome George!')\n",
    "else:\n",
    "    print(\"Welcome, what's your name?\")"
   ]
  },
  {
   "cell_type": "markdown",
   "id": "44a9c158",
   "metadata": {},
   "source": [
    "### FOR LOOPS"
   ]
  },
  {
   "cell_type": "code",
   "execution_count": null,
   "id": "76c4dab2",
   "metadata": {
    "scrolled": true
   },
   "outputs": [],
   "source": [
    "list1 = [1,2,3,4,5,6,7,8,9,10]\n",
    "for num in list1:\n",
    "    print(num)"
   ]
  },
  {
   "cell_type": "code",
   "execution_count": null,
   "id": "8980618d",
   "metadata": {
    "scrolled": true
   },
   "outputs": [],
   "source": [
    "# Solo ponemos los pares\n",
    "for num in list1:\n",
    "    if num % 2 == 0:\n",
    "        print(num)"
   ]
  },
  {
   "cell_type": "code",
   "execution_count": null,
   "id": "2e69b73d",
   "metadata": {},
   "outputs": [],
   "source": [
    "for num in list1:\n",
    "    if num % 2 == 0:\n",
    "        print(num)\n",
    "    else:\n",
    "        print('Odd number')"
   ]
  },
  {
   "cell_type": "code",
   "execution_count": null,
   "id": "2cacced6",
   "metadata": {
    "scrolled": true
   },
   "outputs": [],
   "source": [
    "# Este bucle suma los elmentos de la lista\n",
    "# Comienza la suma en 0\n",
    "list_sum = 0 \n",
    "\n",
    "for num in list1:\n",
    "    list_sum = list_sum + num\n",
    "\n",
    "print(list_sum)"
   ]
  },
  {
   "cell_type": "code",
   "execution_count": null,
   "id": "a3a98420",
   "metadata": {},
   "outputs": [],
   "source": [
    "# Una variación\n",
    "list_sum = 0 \n",
    "\n",
    "for num in list1:\n",
    "    list_sum += num\n",
    "\n",
    "print(list_sum)"
   ]
  },
  {
   "cell_type": "code",
   "execution_count": null,
   "id": "40dcacc4",
   "metadata": {},
   "outputs": [],
   "source": [
    "# También podemos iterar strings\n",
    "for letter in 'This is a string.':\n",
    "    print(letter)"
   ]
  },
  {
   "cell_type": "code",
   "execution_count": null,
   "id": "5c51317e",
   "metadata": {},
   "outputs": [],
   "source": [
    "# También iteramos tuplas\n",
    "tup = (1,2,3,4,5)\n",
    "\n",
    "for t in tup:\n",
    "    print(t)"
   ]
  },
  {
   "cell_type": "code",
   "execution_count": null,
   "id": "d9ea64bc",
   "metadata": {},
   "outputs": [],
   "source": [
    "# ¿Y si tenemos tuplas dentro de listas?\n",
    "list2 = [(2,4),(6,8),(10,12)]\n",
    "for tup in list2:\n",
    "    print(tup)"
   ]
  },
  {
   "cell_type": "code",
   "execution_count": null,
   "id": "eea3fc08",
   "metadata": {},
   "outputs": [],
   "source": [
    "# Aquí desglosamos cada tupla\n",
    "for (t1,t2) in list2:\n",
    "    print(t1)"
   ]
  },
  {
   "cell_type": "code",
   "execution_count": null,
   "id": "f2796ecf",
   "metadata": {
    "scrolled": true
   },
   "outputs": [],
   "source": [
    "# Ahora vamos a por los diccionarios\n",
    "d = {'k1':1,'k2':2,'k3':3}\n",
    "for item in d:\n",
    "    print(item)"
   ]
  },
  {
   "cell_type": "code",
   "execution_count": null,
   "id": "6c4f4196",
   "metadata": {},
   "outputs": [],
   "source": [
    "# Fíjate que en el anterior solamente nos muestra las keys, pero nosotros también queremos ver los valores\n",
    "for k,i in d.items():\n",
    "        print(k)\n",
    "        print(i)"
   ]
  },
  {
   "cell_type": "code",
   "execution_count": null,
   "id": "cd237b8d",
   "metadata": {},
   "outputs": [],
   "source": [
    "# Como dato curioso, podemos obtener una lista de las keys o de los items de esta forma\n",
    "list(d.keys())"
   ]
  },
  {
   "cell_type": "code",
   "execution_count": null,
   "id": "e727b98f",
   "metadata": {},
   "outputs": [],
   "source": [
    "# También podemos ordenar los valores del diccionario!!!! Pero no dentro del diccionario, si no fuera de él.\n",
    "# Recuerda que los diccionarios son desordenados en sí mismos de forma arbitraria\n",
    "sorted(d.values())"
   ]
  },
  {
   "cell_type": "markdown",
   "id": "422c283b",
   "metadata": {},
   "source": [
    "### WHILE LOOPS"
   ]
  },
  {
   "cell_type": "code",
   "execution_count": null,
   "id": "29508f8b",
   "metadata": {
    "scrolled": true
   },
   "outputs": [],
   "source": [
    "x = 0\n",
    "\n",
    "while x < 10:\n",
    "    print('x is currently: ',x)\n",
    "    print(' x is still less than 10, adding 1 to x')\n",
    "    x+=1"
   ]
  },
  {
   "cell_type": "code",
   "execution_count": null,
   "id": "a1f59c70",
   "metadata": {
    "scrolled": true
   },
   "outputs": [],
   "source": [
    "x = 0\n",
    "\n",
    "while x < 10:\n",
    "    print('x is currently: ',x)\n",
    "    print(' x is still less than 10, adding 1 to x')\n",
    "    x+=1\n",
    "    \n",
    "else:\n",
    "    print('All Done!')"
   ]
  },
  {
   "cell_type": "markdown",
   "id": "57b1f1b4",
   "metadata": {},
   "source": [
    "### BREAK, CONTINUE, PASS"
   ]
  },
  {
   "cell_type": "code",
   "execution_count": null,
   "id": "0181abc0",
   "metadata": {},
   "outputs": [],
   "source": [
    "x = 0\n",
    "\n",
    "while x < 10:\n",
    "    print('x is currently: ',x)\n",
    "    print(' x is still less than 10, adding 1 to x')\n",
    "    x+=1\n",
    "    if x==3:\n",
    "        print('x==3')\n",
    "    else:\n",
    "        print('continuing...')\n",
    "        continue"
   ]
  },
  {
   "cell_type": "code",
   "execution_count": null,
   "id": "bb916abb",
   "metadata": {},
   "outputs": [],
   "source": [
    "x = 0\n",
    "\n",
    "while x < 10:\n",
    "    print('x is currently: ',x)\n",
    "    print(' x is still less than 10, adding 1 to x')\n",
    "    x+=1\n",
    "    if x==3:\n",
    "        print('Breaking because x==3')\n",
    "        break\n",
    "    else:\n",
    "        print('continuing...')\n",
    "        continue"
   ]
  },
  {
   "cell_type": "code",
   "execution_count": null,
   "id": "c240e84c",
   "metadata": {},
   "outputs": [],
   "source": [
    "# ¿Quieres petar tu ordenador? Corre esto. Para salir de aquí tendrás que pulsar en Kernel y restart. \n",
    "# Ctrl(Cmd)+C o Esc suele funcionar en la consola\n",
    "#while True:\n",
    "#    print(\"I'm stuck in an infinite loop!\")"
   ]
  },
  {
   "cell_type": "markdown",
   "id": "693b98ef",
   "metadata": {},
   "source": [
    "### Range"
   ]
  },
  {
   "cell_type": "code",
   "execution_count": null,
   "id": "fa5e431d",
   "metadata": {},
   "outputs": [],
   "source": [
    "# Range() tiene tres argumentos, el inicio, el final y el paso. Fíjate en los índices del final\n",
    "list(range(0,11))"
   ]
  },
  {
   "cell_type": "code",
   "execution_count": null,
   "id": "fd654932",
   "metadata": {},
   "outputs": [],
   "source": [
    "list(range(2,10))"
   ]
  },
  {
   "cell_type": "code",
   "execution_count": null,
   "id": "04ef3a8e",
   "metadata": {},
   "outputs": [],
   "source": [
    "list(range(0,101,10))"
   ]
  },
  {
   "cell_type": "markdown",
   "id": "c54ba192",
   "metadata": {},
   "source": [
    "### Enumerate"
   ]
  },
  {
   "cell_type": "code",
   "execution_count": null,
   "id": "ca413708",
   "metadata": {},
   "outputs": [],
   "source": [
    "index_count = 0\n",
    "\n",
    "for letter in 'abcde':\n",
    "    print(\"At index {} the letter is {}\".format(index_count,letter))\n",
    "    index_count += 1"
   ]
  },
  {
   "cell_type": "code",
   "execution_count": null,
   "id": "f7ce453d",
   "metadata": {},
   "outputs": [],
   "source": [
    "for i,letter in enumerate('abcde'):\n",
    "    print(\"At index {} the letter is {}\".format(i,letter))"
   ]
  },
  {
   "cell_type": "markdown",
   "id": "299d6710",
   "metadata": {},
   "source": [
    "### In"
   ]
  },
  {
   "cell_type": "code",
   "execution_count": null,
   "id": "14b678dd",
   "metadata": {},
   "outputs": [],
   "source": [
    "'x' in ['x','y','z']"
   ]
  },
  {
   "cell_type": "code",
   "execution_count": null,
   "id": "ba5ae064",
   "metadata": {},
   "outputs": [],
   "source": [
    "'x' in [1,2,3]"
   ]
  },
  {
   "cell_type": "markdown",
   "id": "e586cccf",
   "metadata": {},
   "source": [
    "### Not in"
   ]
  },
  {
   "cell_type": "code",
   "execution_count": null,
   "id": "238a292d",
   "metadata": {
    "scrolled": true
   },
   "outputs": [],
   "source": [
    "'x' not in ['x','y','z']"
   ]
  },
  {
   "cell_type": "code",
   "execution_count": null,
   "id": "67d430a6",
   "metadata": {},
   "outputs": [],
   "source": [
    "'x' not in [1,2,3]"
   ]
  },
  {
   "cell_type": "markdown",
   "id": "c4f38285",
   "metadata": {},
   "source": [
    "### Min, max"
   ]
  },
  {
   "cell_type": "code",
   "execution_count": null,
   "id": "e533e97a",
   "metadata": {},
   "outputs": [],
   "source": [
    "mylist = [10,20,30,40,100]\n",
    "min(mylist)"
   ]
  },
  {
   "cell_type": "code",
   "execution_count": null,
   "id": "76651fae",
   "metadata": {},
   "outputs": [],
   "source": [
    "max(mylist)"
   ]
  },
  {
   "cell_type": "markdown",
   "id": "ffda0722",
   "metadata": {},
   "source": [
    "### Random"
   ]
  },
  {
   "cell_type": "code",
   "execution_count": null,
   "id": "a87e5cc6",
   "metadata": {},
   "outputs": [],
   "source": [
    "# Aquí vamos a importar shuffle que viene con la librería random. \n",
    "# Digamos que sirve para descolocar una lista\n",
    "from random import shuffle\n",
    "shuffle(mylist)\n",
    "mylist"
   ]
  },
  {
   "cell_type": "code",
   "execution_count": null,
   "id": "0e74ce27",
   "metadata": {},
   "outputs": [],
   "source": [
    "# Otra función es randint que nos genera un número entero aleatorio entre a y b, incluyendo tanto a a como a b\n",
    "from random import randint\n",
    "randint(0,100)"
   ]
  },
  {
   "cell_type": "markdown",
   "id": "68e2315f",
   "metadata": {},
   "source": [
    "### Input"
   ]
  },
  {
   "cell_type": "code",
   "execution_count": null,
   "id": "e9a1b684",
   "metadata": {},
   "outputs": [],
   "source": [
    "input('Pon algo aquí: ')"
   ]
  },
  {
   "cell_type": "markdown",
   "id": "70a24624",
   "metadata": {},
   "source": [
    "# EJERCICIOS"
   ]
  },
  {
   "cell_type": "markdown",
   "id": "ba7edaf2",
   "metadata": {},
   "source": [
    "#### 1.- Emplea for, split() e if para crear un código que imprima todas las palabras que empiecen por 's'."
   ]
  },
  {
   "cell_type": "code",
   "execution_count": null,
   "id": "f0683703",
   "metadata": {},
   "outputs": [],
   "source": [
    "st = 'Print only the words that start with s in this sentence'"
   ]
  },
  {
   "cell_type": "code",
   "execution_count": null,
   "id": "ac5868a9",
   "metadata": {},
   "outputs": [],
   "source": [
    "for palabra in st.split():\n",
    "    if palabra[0] == 's':\n",
    "        print(palabra)"
   ]
  },
  {
   "cell_type": "markdown",
   "id": "a51e8a31",
   "metadata": {},
   "source": [
    "#### 2.- Usa range() para hacer una lista con todos los números pares del 0 al 10"
   ]
  },
  {
   "cell_type": "code",
   "execution_count": null,
   "id": "f7ff1cb8",
   "metadata": {},
   "outputs": [],
   "source": [
    "list(range(0,11,2))"
   ]
  },
  {
   "cell_type": "markdown",
   "id": "5a18ad79",
   "metadata": {},
   "source": [
    "#### 3.- Recorre la siguiente string e imprime  solo las palabras que tengan una longitud par"
   ]
  },
  {
   "cell_type": "code",
   "execution_count": null,
   "id": "45977e3a",
   "metadata": {},
   "outputs": [],
   "source": [
    "st = 'Print every word in this sentence that has an even number of letters'"
   ]
  },
  {
   "cell_type": "code",
   "execution_count": null,
   "id": "fde5d37d",
   "metadata": {},
   "outputs": [],
   "source": [
    "for palabra in st.split():\n",
    "    if len(palabra)%2 == 0:\n",
    "        print(f'{palabra} tiene longitud par')"
   ]
  },
  {
   "cell_type": "markdown",
   "id": "d9c76b41",
   "metadata": {},
   "source": [
    "#### 4.- Escribe un pequeño algoritmo que imprima los enteros del 1 al 100. \n",
    "#### Para múltiplos de 3 escribe 'Fizz' en lugar del número\n",
    "#### Para múltiplos de 5 escribe 'Buzz'\n",
    "#### Para los que sean múltiplos de 3 y de 5 escribe 'FizzBuzz'"
   ]
  },
  {
   "cell_type": "code",
   "execution_count": null,
   "id": "dd4eb2b7",
   "metadata": {},
   "outputs": [],
   "source": [
    "for num in range(0,101):\n",
    "    if num%3 == 0 and num%5 == 0:\n",
    "        print(\"FizzBuzz\")\n",
    "    elif num%3==0:\n",
    "        print(\"Fizz\")\n",
    "    elif num%5==0:\n",
    "        print(\"Buzz\")\n",
    "    else:\n",
    "        print(num)"
   ]
  }
 ],
 "metadata": {
  "kernelspec": {
   "display_name": "Python 3 (ipykernel)",
   "language": "python",
   "name": "python3"
  },
  "language_info": {
   "codemirror_mode": {
    "name": "ipython",
    "version": 3
   },
   "file_extension": ".py",
   "mimetype": "text/x-python",
   "name": "python",
   "nbconvert_exporter": "python",
   "pygments_lexer": "ipython3",
   "version": "3.11.4"
  }
 },
 "nbformat": 4,
 "nbformat_minor": 5
}
