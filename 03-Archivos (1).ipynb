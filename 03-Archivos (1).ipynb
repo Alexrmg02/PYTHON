{
 "cells": [
  {
   "cell_type": "markdown",
   "id": "c4db2a82",
   "metadata": {},
   "source": [
    "### ARCHIVOS"
   ]
  },
  {
   "cell_type": "code",
   "execution_count": null,
   "id": "40cb0623",
   "metadata": {},
   "outputs": [],
   "source": [
    "# Vamos a abrir el archivo test.txt.\n",
    "mi_archivo=open('test.txt')"
   ]
  },
  {
   "cell_type": "code",
   "execution_count": null,
   "id": "32d4eef6",
   "metadata": {},
   "outputs": [],
   "source": [
    "# Leemos el archivo. \n",
    "mi_archivo.read()"
   ]
  },
  {
   "cell_type": "code",
   "execution_count": null,
   "id": "444c3f14",
   "metadata": {
    "scrolled": true
   },
   "outputs": [],
   "source": [
    "# Pero, qué pasa si lo leemos más de una vez? Que nos lleva el cursor al final\n",
    "mi_archivo.read()"
   ]
  },
  {
   "cell_type": "code",
   "execution_count": null,
   "id": "f96508bf",
   "metadata": {},
   "outputs": [],
   "source": [
    "# Podemos reseatear el cursor así\n",
    "mi_archivo.seek(0)"
   ]
  },
  {
   "cell_type": "code",
   "execution_count": null,
   "id": "dbb682dd",
   "metadata": {},
   "outputs": [],
   "source": [
    "mi_archivo.read()"
   ]
  },
  {
   "cell_type": "code",
   "execution_count": null,
   "id": "32cbcc63",
   "metadata": {},
   "outputs": [],
   "source": [
    "mi_archivo"
   ]
  },
  {
   "cell_type": "code",
   "execution_count": null,
   "id": "b54d71ab",
   "metadata": {},
   "outputs": [],
   "source": [
    "# Si usamos la función readlines() nos devuelve una lista para cada línea del archivo\n",
    "mi_archivo.seek(0)\n",
    "mi_archivo.readlines()"
   ]
  },
  {
   "cell_type": "code",
   "execution_count": null,
   "id": "f7c01a26",
   "metadata": {},
   "outputs": [],
   "source": [
    "# Podemos cerrar un archivo. Siempre es buena idea cerrarlos para evitar que consuman memoria.\n",
    "mi_archivo.close()"
   ]
  },
  {
   "cell_type": "code",
   "execution_count": null,
   "id": "2a69927b",
   "metadata": {},
   "outputs": [],
   "source": [
    "# Podemos escribir un archivo usando open y w+ que se emplea para leer y escribir sobre el archivo.\n",
    "# Hay que tener en cuenta que si se usa w o w+ se elimina el contenido anterior del archivo!!!!\n",
    "mi_archivo=open('test.txt','w+')"
   ]
  },
  {
   "cell_type": "code",
   "execution_count": null,
   "id": "f4188a5c",
   "metadata": {},
   "outputs": [],
   "source": [
    "# Ahora escribimos en él\n",
    "mi_archivo.write('Esta es una línea nueva')"
   ]
  },
  {
   "cell_type": "code",
   "execution_count": null,
   "id": "3a5fcb6e",
   "metadata": {},
   "outputs": [],
   "source": [
    "mi_archivo.seek(0)\n",
    "mi_archivo.read()"
   ]
  },
  {
   "cell_type": "code",
   "execution_count": null,
   "id": "dd01072c",
   "metadata": {},
   "outputs": [],
   "source": [
    "mi_archivo.close()"
   ]
  },
  {
   "cell_type": "code",
   "execution_count": null,
   "id": "fbd711fb",
   "metadata": {},
   "outputs": [],
   "source": [
    "# Ahora queremos añadir información nueva\n",
    "mi_archivo = open('test.txt','a+')\n",
    "mi_archivo.write('\\nEsta línea va detrás de la anterior')\n",
    "mi_archivo.write('\\nY aquí ponemos otra')"
   ]
  },
  {
   "cell_type": "code",
   "execution_count": null,
   "id": "68b548e9",
   "metadata": {},
   "outputs": [],
   "source": [
    "mi_archivo.seek(0)\n",
    "mi_archivo.read()"
   ]
  },
  {
   "cell_type": "code",
   "execution_count": null,
   "id": "f8f175a1",
   "metadata": {},
   "outputs": [],
   "source": [
    "mi_archivo.seek(0)\n",
    "print(mi_archivo.read())"
   ]
  },
  {
   "cell_type": "code",
   "execution_count": null,
   "id": "9144d98d",
   "metadata": {},
   "outputs": [],
   "source": [
    "# También podemos iterar sobre los archivos\n",
    "mi_archivo.seek(0)\n",
    "for line in mi_archivo:\n",
    "    print(line)"
   ]
  },
  {
   "cell_type": "code",
   "execution_count": null,
   "id": "90990091",
   "metadata": {},
   "outputs": [],
   "source": [
    "mi_archivo.close()"
   ]
  }
 ],
 "metadata": {
  "kernelspec": {
   "display_name": "Python 3 (ipykernel)",
   "language": "python",
   "name": "python3"
  },
  "language_info": {
   "codemirror_mode": {
    "name": "ipython",
    "version": 3
   },
   "file_extension": ".py",
   "mimetype": "text/x-python",
   "name": "python",
   "nbconvert_exporter": "python",
   "pygments_lexer": "ipython3",
   "version": "3.11.4"
  }
 },
 "nbformat": 4,
 "nbformat_minor": 5
}
