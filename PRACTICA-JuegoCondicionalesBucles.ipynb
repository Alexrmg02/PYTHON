{
 "cells": [
  {
   "cell_type": "markdown",
   "id": "e87fdfc4",
   "metadata": {},
   "source": [
    "# PRACTICA JUEGO CONDICIONALES BUCLES\n",
    "\n",
    "#### Esta práctica se entrega el día 22 de Octubre a las 23:59\n",
    "#### Cuenta el 10% de la nota\n",
    "\n",
    "## JUEGO DE ADIVINANZAS\n",
    "\n",
    "#### Escribe un programa que coja un número entero del 1 al 100, y los jugadores tienen que tratar de adivinar el número.\n",
    "\n",
    "#### Las reglas son las siguientes:\n",
    "\n",
    "1. Si un jugador escoje un número menor que 1 o mayor que 100, el programa dice \"FUERA DE LÍMITES\"\n",
    "2. En el primer turno del jugador, si está en un rango de 10 del número dice \"¡CALIENTE!\". Si está fuera de ese rango dice \"¡FRIO!\"\n",
    "3. En todas las rondas siguientes, si el jugador se acerca más que la vez anterior, dice \"¡MAS CALIENTE!\". Si está más lejos que la anterior vez dice \"¡MAS FRIO!\"\n",
    "4. Cuando el jugador acierte el número, les dirá que han acertado y cuántos intentos les ha llevado\n",
    "\n",
    "\n",
    "\n"
   ]
  },
  {
   "cell_type": "markdown",
   "id": "1ea418c3",
   "metadata": {},
   "source": [
    "##### PISTAS\n",
    "1. Trata obtener un número aleatorio entre el 1 y el 100\n",
    "2. Haz una introducción de tu juego y explica las reglas\n",
    "3. Crea una lista que almacene los intentos. \n",
    "4. Haz un bucle que evalúe un número. Prueba que funcione primero. While podría ir bien\n",
    "5. Modifica ese bucle para que compare nuestro número con el intento. Si se acierta usa break, si no puedes usar continue y tienes que seguir preguntando al jugador por nuevos intentos"
   ]
  },
  {
   "cell_type": "code",
   "execution_count": 1,
   "id": "edb04216",
   "metadata": {},
   "outputs": [],
   "source": [
    "import random"
   ]
  },
  {
   "cell_type": "code",
   "execution_count": 2,
   "id": "6829e936",
   "metadata": {},
   "outputs": [],
   "source": [
    "num=random.randint(1,100)"
   ]
  },
  {
   "cell_type": "markdown",
   "id": "9e61f5dc",
   "metadata": {},
   "source": [
    "##### Importamos libreria y usamos la función que nos proporciona un numero entero aleatorio entre 1 a 100, despues añadimos num para guardar el resultado como nuestra variable"
   ]
  },
  {
   "cell_type": "code",
   "execution_count": 3,
   "id": "b6c689da",
   "metadata": {},
   "outputs": [
    {
     "name": "stdout",
     "output_type": "stream",
     "text": [
      "¡NUEVO JUEGO DE ADIVINANZAS JUPIII!\n",
      "Estoy pensando en un número del 1 al 100...\n",
      "Si tu primer intento está dentro de un rango de 10 de mi número, te diré ¡CERCA!\n",
      "Si tu primer intento está fuera de ese rango, te diré ¡LEJOS!\n",
      "Si tus siguientes intentos se van acercando, te diré ¡CASI!\n",
      "Si tus siguientes intentos se van alejando, te diré ¡TE ALEJAS!\n",
      "¡EMPEZAMOS!\n"
     ]
    }
   ],
   "source": [
    "print(\"¡NUEVO JUEGO DE ADIVINANZAS JUPIII!\")\n",
    "print(\"Estoy pensando en un número del 1 al 100...\")\n",
    "print(\"Si tu primer intento está dentro de un rango de 10 de mi número, te diré ¡CERCA!\")\n",
    "print(\"Si tu primer intento está fuera de ese rango, te diré ¡LEJOS!\")\n",
    "print(\"Si tus siguientes intentos se van acercando, te diré ¡CASI!\")\n",
    "print(\"Si tus siguientes intentos se van alejando, te diré ¡TE ALEJAS!\")\n",
    "print(\"¡EMPEZAMOS!\")"
   ]
  },
  {
   "cell_type": "markdown",
   "id": "90db5bad",
   "metadata": {},
   "source": [
    "##### Los textos que nos iran apareciendo segun las condiciones de nuestro juego"
   ]
  },
  {
   "cell_type": "code",
   "execution_count": 4,
   "id": "bdd7e0a2",
   "metadata": {},
   "outputs": [],
   "source": [
    "intentos=[]"
   ]
  },
  {
   "cell_type": "markdown",
   "id": "27616c3e",
   "metadata": {},
   "source": [
    "##### Creamos una lista para guardar los intentos del usuario"
   ]
  },
  {
   "cell_type": "code",
   "execution_count": 5,
   "id": "c0c61495",
   "metadata": {},
   "outputs": [
    {
     "name": "stdout",
     "output_type": "stream",
     "text": [
      "Estoy pensando en un número entero entre el 1 y el 100.\n",
      "No creo que lo adivines jaja 80\n",
      "¡MAS LEJOS!\n",
      "Estoy pensando en un número entero entre el 1 y el 100.\n",
      "No creo que lo adivines jaja 60\n",
      "¡CASI!\n",
      "Estoy pensando en un número entero entre el 1 y el 100.\n",
      "No creo que lo adivines jaja 61\n",
      "¡LEJOS!\n",
      "Estoy pensando en un número entero entre el 1 y el 100.\n",
      "No creo que lo adivines jaja 62\n",
      "¡LEJOS!\n",
      "Estoy pensando en un número entero entre el 1 y el 100.\n",
      "No creo que lo adivines jaja 63\n",
      "¡LEJOS!\n",
      "Estoy pensando en un número entero entre el 1 y el 100.\n",
      "No creo que lo adivines jaja 59\n",
      "¡CASI!\n",
      "Estoy pensando en un número entero entre el 1 y el 100.\n",
      "No creo que lo adivines jaja 58\n",
      "¡CASI!\n",
      "Estoy pensando en un número entero entre el 1 y el 100.\n",
      "No creo que lo adivines jaja 57\n",
      "¡CASI!\n",
      "Estoy pensando en un número entero entre el 1 y el 100.\n",
      "No creo que lo adivines jaja 56\n",
      "¡CASI!\n",
      "Estoy pensando en un número entero entre el 1 y el 100.\n",
      "No creo que lo adivines jaja 55\n",
      "¡CASI!\n",
      "Estoy pensando en un número entero entre el 1 y el 100.\n",
      "No creo que lo adivines jaja 54\n",
      "¡CASI!\n",
      "Estoy pensando en un número entero entre el 1 y el 100.\n",
      "No creo que lo adivines jaja 53\n",
      "¡CASI!\n",
      "Estoy pensando en un número entero entre el 1 y el 100.\n",
      "No creo que lo adivines jaja 51\n",
      "¡CASI!\n",
      "Estoy pensando en un número entero entre el 1 y el 100.\n",
      "No creo que lo adivines jaja 50\n",
      "¡CASI!\n",
      "Estoy pensando en un número entero entre el 1 y el 100.\n",
      "No creo que lo adivines jaja 52\n",
      "¡LEJOS!\n",
      "Estoy pensando en un número entero entre el 1 y el 100.\n",
      "No creo que lo adivines jaja 49\n",
      "¡CASI!\n",
      "Estoy pensando en un número entero entre el 1 y el 100.\n",
      "No creo que lo adivines jaja 48\n",
      "¡CASI!\n",
      "Estoy pensando en un número entero entre el 1 y el 100.\n",
      "No creo que lo adivines jaja 46\n",
      "¡CASI!\n",
      "Estoy pensando en un número entero entre el 1 y el 100.\n",
      "No creo que lo adivines jaja 43\n",
      "¡LEJOS!\n",
      "Estoy pensando en un número entero entre el 1 y el 100.\n",
      "No creo que lo adivines jaja 45\n",
      "FELICIDADES, LO HAS ADIVINADO CON SOLO 20!!\n"
     ]
    }
   ],
   "source": [
    "while True:\n",
    "    \n",
    "    # Permitimos al usuario hacer un intento\n",
    "    intento=int(input(\"Estoy pensando en un número entero entre el 1 y el 100.\\nNo creo que lo adivines jaja \"))\n",
    "    \n",
    "    if intento < 1 or intento > 100:\n",
    "        print(\"¡FUERA DE LIMITES! Por favor, intentalo de nuevo\")\n",
    "        continue\n",
    "        \n",
    "    intentos.append(intento)\n",
    "    \n",
    "    if intento == num:\n",
    "        print(f'FELICIDADES, LO HAS ADIVINADO CON SOLO {len(intentos)}!!')\n",
    "        break\n",
    "            \n",
    "    if len(intentos) >= 2:\n",
    "        if abs(num-intento) < abs(num-intentos[-2]):\n",
    "            print(\"¡CASI!\")\n",
    "        else:\n",
    "            print(\"¡LEJOS!\")\n",
    "    else:\n",
    "        if abs(num-intento) <= 10:\n",
    "            print(\"¡MAS CERCA!\")\n",
    "        else:\n",
    "            print(\"¡MAS LEJOS!\")"
   ]
  },
  {
   "cell_type": "markdown",
   "id": "bfcce60f",
   "metadata": {},
   "source": [
    "##### 1º paso: creamos la función para que el usuario saque un numero entre 1 a 100 introdución de texto cada vez que tiremos\n",
    "##### 2º paso: creamos función para si el usuario saca mas de 100 o menos de 1 \n",
    "##### 3º paso: si queremos que el intento se añada a nuetra lista, ( otras funciones: intentos = intentos + [intento]; intento += [intento] y por último la que usamos: intentos.append(intento))\n",
    "##### 4º paso: Para los valores que se alejen o acerquen a nuestro numero en 10 numeros, usamos valores absolutos abs\n",
    "##### 5º paso: Para las siguientes rondas creamos la función para nuestro nuevo intento ( esa diferencia con nuestro nuevo numero esta mas cerca que la resta de la anterior tirada (usamos -2 para referirnos al valor de la primera ronda), queremos crear un bucle para que funcione solo)\n",
    "##### 6º paso: Creamos el bucle añadiendo las funciones del 1º y 2º paso, añadimos que si no es asi continue\n",
    "##### 7º paso:Añadimos el intento a nuestra lista, \"\" la función de la primera ronda\n",
    "##### 8º paso: Para poder evaluar el numero de intentos si es mayor o menor de 2 estamos en la segunda ronda, si no lo es estamos en la segunda ronda\n",
    "##### 9º paso: Añadir la función para cuando acertemos el número."
   ]
  }
 ],
 "metadata": {
  "kernelspec": {
   "display_name": "Python 3 (ipykernel)",
   "language": "python",
   "name": "python3"
  },
  "language_info": {
   "codemirror_mode": {
    "name": "ipython",
    "version": 3
   },
   "file_extension": ".py",
   "mimetype": "text/x-python",
   "name": "python",
   "nbconvert_exporter": "python",
   "pygments_lexer": "ipython3",
   "version": "3.11.4"
  }
 },
 "nbformat": 4,
 "nbformat_minor": 5
}
