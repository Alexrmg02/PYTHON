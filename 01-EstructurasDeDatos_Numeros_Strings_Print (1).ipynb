{
 "cells": [
  {
   "cell_type": "markdown",
   "id": "bff239f6",
   "metadata": {},
   "source": [
    "### Números"
   ]
  },
  {
   "cell_type": "code",
   "execution_count": null,
   "id": "d39cbbcd",
   "metadata": {},
   "outputs": [],
   "source": [
    "# Suma\n",
    "1+3"
   ]
  },
  {
   "cell_type": "code",
   "execution_count": null,
   "id": "bec2ff11",
   "metadata": {},
   "outputs": [],
   "source": [
    "# Resta\n",
    "2-1"
   ]
  },
  {
   "cell_type": "code",
   "execution_count": null,
   "id": "07c8613d",
   "metadata": {},
   "outputs": [],
   "source": [
    "# Multiplicación\n",
    "2*5"
   ]
  },
  {
   "cell_type": "code",
   "execution_count": null,
   "id": "7cb1b90b",
   "metadata": {},
   "outputs": [],
   "source": [
    "# Division\n",
    "3/2"
   ]
  },
  {
   "cell_type": "code",
   "execution_count": null,
   "id": "291a44b1",
   "metadata": {
    "scrolled": true
   },
   "outputs": [],
   "source": [
    "# Floor o división de piso (// trunca el resultado sin redondear y nos da el número entero)\n",
    "3//2"
   ]
  },
  {
   "cell_type": "code",
   "execution_count": null,
   "id": "dffd326b",
   "metadata": {},
   "outputs": [],
   "source": [
    "# Módulo (nos da el resto)\n",
    "3%2"
   ]
  },
  {
   "cell_type": "code",
   "execution_count": null,
   "id": "0884043f",
   "metadata": {},
   "outputs": [],
   "source": [
    "# Potencia\n",
    "2**3"
   ]
  },
  {
   "cell_type": "code",
   "execution_count": null,
   "id": "0b145478",
   "metadata": {},
   "outputs": [],
   "source": [
    "# Raíces (como la potencia al revés)\n",
    "4**0.5"
   ]
  },
  {
   "cell_type": "code",
   "execution_count": null,
   "id": "68658bed",
   "metadata": {},
   "outputs": [],
   "source": [
    "# Orden de operaciones en Python\n",
    "1+10*10+5"
   ]
  },
  {
   "cell_type": "code",
   "execution_count": null,
   "id": "e121c094",
   "metadata": {},
   "outputs": [],
   "source": [
    "(1+10)*(10+5)"
   ]
  },
  {
   "cell_type": "code",
   "execution_count": null,
   "id": "46ae2487",
   "metadata": {},
   "outputs": [],
   "source": [
    "# Asignamos números a variables\n",
    "a=5"
   ]
  },
  {
   "cell_type": "code",
   "execution_count": null,
   "id": "332bf0e2",
   "metadata": {},
   "outputs": [],
   "source": [
    "a+a"
   ]
  },
  {
   "cell_type": "code",
   "execution_count": null,
   "id": "72165d42",
   "metadata": {},
   "outputs": [],
   "source": [
    "# Reasignamos\n",
    "a=10"
   ]
  },
  {
   "cell_type": "code",
   "execution_count": null,
   "id": "f1ab554c",
   "metadata": {},
   "outputs": [],
   "source": [
    "a"
   ]
  },
  {
   "cell_type": "code",
   "execution_count": null,
   "id": "0ba3ba7e",
   "metadata": {},
   "outputs": [],
   "source": [
    "a=a+a"
   ]
  },
  {
   "cell_type": "code",
   "execution_count": null,
   "id": "b7f69aa8",
   "metadata": {},
   "outputs": [],
   "source": [
    "a"
   ]
  },
  {
   "cell_type": "code",
   "execution_count": null,
   "id": "a7a2b180",
   "metadata": {},
   "outputs": [],
   "source": [
    "mi_valor=100\n",
    "ratio=0.1\n",
    "mi_precio=mi_valor*ratio\n",
    "mi_precio"
   ]
  },
  {
   "cell_type": "code",
   "execution_count": null,
   "id": "f1208bf8",
   "metadata": {},
   "outputs": [],
   "source": [
    "# Podemos determinar el tipo de una variable con type()\n",
    "type(a)"
   ]
  },
  {
   "cell_type": "markdown",
   "id": "b34361cb",
   "metadata": {},
   "source": [
    "### STRINGS"
   ]
  },
  {
   "cell_type": "code",
   "execution_count": null,
   "id": "21be8dc1",
   "metadata": {},
   "outputs": [],
   "source": [
    "'hello'"
   ]
  },
  {
   "cell_type": "code",
   "execution_count": null,
   "id": "8787b426",
   "metadata": {},
   "outputs": [],
   "source": [
    "'Esto también es una string'"
   ]
  },
  {
   "cell_type": "code",
   "execution_count": null,
   "id": "8960a93c",
   "metadata": {},
   "outputs": [],
   "source": [
    "\"y esto también\""
   ]
  },
  {
   "cell_type": "code",
   "execution_count": null,
   "id": "20a4645e",
   "metadata": {},
   "outputs": [],
   "source": [
    "# Para algunas cosas la comilla simple no nos serviría\n",
    "'i'm using this'"
   ]
  },
  {
   "cell_type": "code",
   "execution_count": null,
   "id": "ee74571e",
   "metadata": {},
   "outputs": [],
   "source": [
    "\"i'm using this\""
   ]
  },
  {
   "cell_type": "code",
   "execution_count": null,
   "id": "993fd2d4",
   "metadata": {},
   "outputs": [],
   "source": [
    "# Print() nos permite mostrar strings en el código\n",
    "print('Hello World 1')\n",
    "print('Hello World 2')\n",
    "print('Use \\n to print a new line')\n",
    "print('\\n')\n",
    "print('See what I mean?')"
   ]
  },
  {
   "cell_type": "code",
   "execution_count": null,
   "id": "5f4daf2e",
   "metadata": {},
   "outputs": [],
   "source": [
    "# Podemos usar len() para chequear la longitud de una string\n",
    "len(\"Hello World\")"
   ]
  },
  {
   "cell_type": "code",
   "execution_count": null,
   "id": "b21f1501",
   "metadata": {},
   "outputs": [],
   "source": [
    "s=\"Hello World\"\n",
    "s"
   ]
  },
  {
   "cell_type": "code",
   "execution_count": null,
   "id": "0abe5524",
   "metadata": {},
   "outputs": [],
   "source": [
    "print(s)"
   ]
  },
  {
   "cell_type": "code",
   "execution_count": null,
   "id": "fc14ce46",
   "metadata": {},
   "outputs": [],
   "source": [
    "len(s)"
   ]
  },
  {
   "cell_type": "code",
   "execution_count": null,
   "id": "1d1a259e",
   "metadata": {},
   "outputs": [],
   "source": [
    "# En Python se empieza a contar desde el 0\n",
    "s[0]"
   ]
  },
  {
   "cell_type": "code",
   "execution_count": null,
   "id": "a22f18a3",
   "metadata": {},
   "outputs": [],
   "source": [
    "s[2]"
   ]
  },
  {
   "cell_type": "code",
   "execution_count": null,
   "id": "0b89713b",
   "metadata": {},
   "outputs": [],
   "source": [
    "# Coger todo desde el caracter 1 hasta el final\n",
    "s[1:]"
   ]
  },
  {
   "cell_type": "code",
   "execution_count": null,
   "id": "e38677d7",
   "metadata": {},
   "outputs": [],
   "source": [
    "# Coger todo desde el principio hasta el número 3 (no incluido)\n",
    "s[:3]"
   ]
  },
  {
   "cell_type": "code",
   "execution_count": null,
   "id": "ac2c9eae",
   "metadata": {},
   "outputs": [],
   "source": [
    "# Coger todo\n",
    "s[:]"
   ]
  },
  {
   "cell_type": "code",
   "execution_count": null,
   "id": "a1f5c70f",
   "metadata": {},
   "outputs": [],
   "source": [
    "# Podemos coger todo menos la última\n",
    "s[:-1]"
   ]
  },
  {
   "cell_type": "code",
   "execution_count": null,
   "id": "42645b47",
   "metadata": {},
   "outputs": [],
   "source": [
    "# Coger todo pero yendo en pasos de 2\n",
    "s[::2]"
   ]
  },
  {
   "cell_type": "code",
   "execution_count": null,
   "id": "0157427d",
   "metadata": {},
   "outputs": [],
   "source": [
    "# La mostramos al revés\n",
    "s[::-1]"
   ]
  },
  {
   "cell_type": "code",
   "execution_count": null,
   "id": "14b9faee",
   "metadata": {},
   "outputs": [],
   "source": [
    "s[0]='x'"
   ]
  },
  {
   "cell_type": "code",
   "execution_count": null,
   "id": "42273bd8",
   "metadata": {},
   "outputs": [],
   "source": [
    "# Concatenar\n",
    "s =s + ' concatename'"
   ]
  },
  {
   "cell_type": "code",
   "execution_count": null,
   "id": "ad6981b6",
   "metadata": {},
   "outputs": [],
   "source": [
    "s"
   ]
  },
  {
   "cell_type": "code",
   "execution_count": null,
   "id": "829b2929",
   "metadata": {},
   "outputs": [],
   "source": [
    "# si que podemos usar el multiplicador para crear repetición de elementos\n",
    "letter='z'\n",
    "letter*10"
   ]
  },
  {
   "cell_type": "code",
   "execution_count": null,
   "id": "39537ae0",
   "metadata": {},
   "outputs": [],
   "source": [
    "# Todo en mayúsculas (no cambia el original)\n",
    "s.upper()"
   ]
  },
  {
   "cell_type": "code",
   "execution_count": null,
   "id": "fcdcd3e4",
   "metadata": {},
   "outputs": [],
   "source": [
    "# Todo en minúsculas\n",
    "s.lower()"
   ]
  },
  {
   "cell_type": "code",
   "execution_count": null,
   "id": "e47b75b8",
   "metadata": {},
   "outputs": [],
   "source": [
    "# Separa la string por los espacios en blanco\n",
    "s.split()"
   ]
  },
  {
   "cell_type": "code",
   "execution_count": null,
   "id": "0530dec1",
   "metadata": {},
   "outputs": [],
   "source": [
    "s.split('l')"
   ]
  },
  {
   "cell_type": "code",
   "execution_count": null,
   "id": "0cbfc20c",
   "metadata": {},
   "outputs": [],
   "source": [
    "# Tips para hacer un print bonito con las f-strings\n",
    "nombre='Paco'\n",
    "print(f\"Él dijo que su nombre era {nombre}.\")"
   ]
  },
  {
   "cell_type": "code",
   "execution_count": null,
   "id": "bf48e4f0",
   "metadata": {},
   "outputs": [],
   "source": [
    "# Podemos meter la string literal con !r\n",
    "print(f\"Él dijo que su nombre era {nombre!r}.\")"
   ]
  }
 ],
 "metadata": {
  "kernelspec": {
   "display_name": "Python 3 (ipykernel)",
   "language": "python",
   "name": "python3"
  },
  "language_info": {
   "codemirror_mode": {
    "name": "ipython",
    "version": 3
   },
   "file_extension": ".py",
   "mimetype": "text/x-python",
   "name": "python",
   "nbconvert_exporter": "python",
   "pygments_lexer": "ipython3",
   "version": "3.11.4"
  }
 },
 "nbformat": 4,
 "nbformat_minor": 5
}
