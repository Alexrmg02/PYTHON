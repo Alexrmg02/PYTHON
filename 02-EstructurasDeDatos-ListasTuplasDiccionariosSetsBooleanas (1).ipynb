{
 "cells": [
  {
   "cell_type": "markdown",
   "id": "1404f345",
   "metadata": {},
   "source": [
    "### LISTAS"
   ]
  },
  {
   "cell_type": "code",
   "execution_count": null,
   "id": "5276d26b",
   "metadata": {},
   "outputs": [],
   "source": [
    "mi_lista = [1,2,3]"
   ]
  },
  {
   "cell_type": "code",
   "execution_count": null,
   "id": "cf316093",
   "metadata": {},
   "outputs": [],
   "source": [
    "# Podemos reasignar sus valores\n",
    "mi_lista = ['Una string',23,100.232,'o']"
   ]
  },
  {
   "cell_type": "code",
   "execution_count": null,
   "id": "b4fa0a66",
   "metadata": {},
   "outputs": [],
   "source": [
    "mi_lista"
   ]
  },
  {
   "cell_type": "code",
   "execution_count": null,
   "id": "84e2e574",
   "metadata": {},
   "outputs": [],
   "source": [
    "# Podemos medir su longitud\n",
    "len(mi_lista)"
   ]
  },
  {
   "cell_type": "code",
   "execution_count": null,
   "id": "ec50645c",
   "metadata": {},
   "outputs": [],
   "source": [
    "# Podemos acceder a partes de la lista\n",
    "mi_lista[0]"
   ]
  },
  {
   "cell_type": "code",
   "execution_count": null,
   "id": "821f27bb",
   "metadata": {},
   "outputs": [],
   "source": [
    "mi_lista[1:]"
   ]
  },
  {
   "cell_type": "code",
   "execution_count": null,
   "id": "bbb6c0d7",
   "metadata": {},
   "outputs": [],
   "source": [
    "mi_lista[:3]"
   ]
  },
  {
   "cell_type": "code",
   "execution_count": null,
   "id": "1349e092",
   "metadata": {},
   "outputs": [],
   "source": [
    "# Podemos añadir nuevos elementos o concatenar\n",
    "mi_lista + ['nuevo']"
   ]
  },
  {
   "cell_type": "code",
   "execution_count": null,
   "id": "8bf7fa87",
   "metadata": {},
   "outputs": [],
   "source": [
    "mi_lista"
   ]
  },
  {
   "cell_type": "code",
   "execution_count": null,
   "id": "e7a04266",
   "metadata": {},
   "outputs": [],
   "source": [
    "mi_lista = mi_lista + ['nuevo elemento']"
   ]
  },
  {
   "cell_type": "code",
   "execution_count": null,
   "id": "c8609ebd",
   "metadata": {},
   "outputs": [],
   "source": [
    "mi_lista"
   ]
  },
  {
   "cell_type": "code",
   "execution_count": null,
   "id": "c7f57a83",
   "metadata": {},
   "outputs": [],
   "source": [
    "mi_lista.append('otro')"
   ]
  },
  {
   "cell_type": "code",
   "execution_count": null,
   "id": "e943b2ba",
   "metadata": {},
   "outputs": [],
   "source": [
    "# Podemos aumentar su tamaño\n",
    "mi_lista*2"
   ]
  },
  {
   "cell_type": "code",
   "execution_count": null,
   "id": "98fa16d1",
   "metadata": {},
   "outputs": [],
   "source": [
    "# Podemos quitar el último elemento (permanentemente)\n",
    "mi_lista.pop()\n",
    "mi_lista"
   ]
  },
  {
   "cell_type": "code",
   "execution_count": null,
   "id": "5ddbbc44",
   "metadata": {},
   "outputs": [],
   "source": [
    "# Podemos darle la vuelta a la lista con reverse(). De forma permanente\n",
    "mi_lista.reverse()\n",
    "mi_lista"
   ]
  },
  {
   "cell_type": "code",
   "execution_count": null,
   "id": "6fc44671",
   "metadata": {},
   "outputs": [],
   "source": [
    "# Podemos ordenarla una lista alfabéticamente o numéricamente\n",
    "prueba = [1,5,6,34,100]\n",
    "prueba.sort()\n",
    "prueba"
   ]
  },
  {
   "cell_type": "code",
   "execution_count": null,
   "id": "0d528c48",
   "metadata": {},
   "outputs": [],
   "source": [
    "# Hacemos una matriz\n",
    "lst_1=[1,2,3]\n",
    "lst_2=[4,5,6]\n",
    "lst_3=[7,8,9]\n",
    "\n",
    "matrix = [lst_1,lst_2,lst_3]\n",
    "matrix"
   ]
  },
  {
   "cell_type": "code",
   "execution_count": null,
   "id": "055338a0",
   "metadata": {},
   "outputs": [],
   "source": [
    "matrix[0]"
   ]
  },
  {
   "cell_type": "code",
   "execution_count": null,
   "id": "0fd5bc0e",
   "metadata": {},
   "outputs": [],
   "source": [
    "matrix[0][0]"
   ]
  },
  {
   "cell_type": "code",
   "execution_count": null,
   "id": "90f839bf",
   "metadata": {},
   "outputs": [],
   "source": [
    "# List comprehensions. Aquí lo que estamos haciendo es sacar el primer elemento de matrix\n",
    "first_col = [row[0] for row in matrix]\n",
    "first_col"
   ]
  },
  {
   "cell_type": "markdown",
   "id": "8d2ed501",
   "metadata": {},
   "source": [
    "### DICCIONARIOS"
   ]
  },
  {
   "cell_type": "code",
   "execution_count": null,
   "id": "86d28803",
   "metadata": {},
   "outputs": [],
   "source": [
    "mi_dict = {'key1':'value1','key2':'value2'}\n",
    "mi_dict"
   ]
  },
  {
   "cell_type": "code",
   "execution_count": null,
   "id": "0a04d862",
   "metadata": {},
   "outputs": [],
   "source": [
    "mi_dict = {'key1':123,'key2':[12,23,33],'key3':['item0','item1','item2']}\n",
    "mi_dict"
   ]
  },
  {
   "cell_type": "code",
   "execution_count": null,
   "id": "50a5ea0c",
   "metadata": {},
   "outputs": [],
   "source": [
    "# Vamos a acceder a los elementos de un diccionario\n",
    "mi_dict['key1']"
   ]
  },
  {
   "cell_type": "code",
   "execution_count": null,
   "id": "68a6cb3b",
   "metadata": {},
   "outputs": [],
   "source": [
    "mi_dict['key3'][0]"
   ]
  },
  {
   "cell_type": "code",
   "execution_count": null,
   "id": "384b0572",
   "metadata": {},
   "outputs": [],
   "source": [
    "# Podemos incluso llamar a funciones sobre esos valores\n",
    "mi_dict['key3'][0].upper()"
   ]
  },
  {
   "cell_type": "code",
   "execution_count": null,
   "id": "0a655db1",
   "metadata": {},
   "outputs": [],
   "source": [
    "mi_dict"
   ]
  },
  {
   "cell_type": "code",
   "execution_count": null,
   "id": "def55b91",
   "metadata": {},
   "outputs": [],
   "source": [
    "# Podemos cambiar los valores de las keys\n",
    "mi_dict['key1'] = mi_dict['key1'] - 123\n",
    "mi_dict"
   ]
  },
  {
   "cell_type": "code",
   "execution_count": null,
   "id": "7e0b3214",
   "metadata": {},
   "outputs": [],
   "source": [
    "mi_dict['key1'] += 123\n",
    "mi_dict['key1']"
   ]
  },
  {
   "cell_type": "code",
   "execution_count": null,
   "id": "7727d9f4",
   "metadata": {},
   "outputs": [],
   "source": [
    "# Podemos crear nuevas keys\n",
    "d = {}\n",
    "d['animal'] = 'Perro'\n",
    "d['respuesta'] = 42\n",
    "d"
   ]
  },
  {
   "cell_type": "code",
   "execution_count": null,
   "id": "0ac4a9b9",
   "metadata": {},
   "outputs": [],
   "source": [
    "# Podemos meter un diccionario dentro de otro\n",
    "d['nestedKey']=mi_dict\n",
    "d"
   ]
  },
  {
   "cell_type": "code",
   "execution_count": null,
   "id": "93957064",
   "metadata": {},
   "outputs": [],
   "source": [
    "# Podemos devolver todas las keys\n",
    "d.keys()"
   ]
  },
  {
   "cell_type": "code",
   "execution_count": null,
   "id": "2c739edb",
   "metadata": {},
   "outputs": [],
   "source": [
    "# Podemos devolver todos los valores (como tuplas, ¡ya lo veremos!)\n",
    "d.items()"
   ]
  },
  {
   "cell_type": "markdown",
   "id": "31eb8900",
   "metadata": {},
   "source": [
    "### TUPLAS"
   ]
  },
  {
   "cell_type": "code",
   "execution_count": null,
   "id": "61e43a7d",
   "metadata": {},
   "outputs": [],
   "source": [
    "t = (1,2,3)\n",
    "len(t)"
   ]
  },
  {
   "cell_type": "code",
   "execution_count": null,
   "id": "f4623896",
   "metadata": {},
   "outputs": [],
   "source": [
    "t"
   ]
  },
  {
   "cell_type": "code",
   "execution_count": null,
   "id": "928ab1b3",
   "metadata": {},
   "outputs": [],
   "source": [
    "# Las tuplas pueden tener elementos de distinto tipo\n",
    "t = ('uno',2)\n",
    "t"
   ]
  },
  {
   "cell_type": "code",
   "execution_count": null,
   "id": "81f37776",
   "metadata": {},
   "outputs": [],
   "source": [
    "# Podemos acceder a sus elementos pero no cambiarlos\n",
    "t[0]"
   ]
  },
  {
   "cell_type": "code",
   "execution_count": null,
   "id": "cc2f3e6e",
   "metadata": {},
   "outputs": [],
   "source": [
    "t[0]=0"
   ]
  },
  {
   "cell_type": "code",
   "execution_count": null,
   "id": "aceaf44b",
   "metadata": {},
   "outputs": [],
   "source": [
    "t[-1]"
   ]
  },
  {
   "cell_type": "code",
   "execution_count": null,
   "id": "2a1a79f8",
   "metadata": {},
   "outputs": [],
   "source": [
    "# Usamos index() para retornar el valor de un índice\n",
    "t.index('uno')"
   ]
  },
  {
   "cell_type": "code",
   "execution_count": null,
   "id": "848bd0b6",
   "metadata": {},
   "outputs": [],
   "source": [
    "# También podemos contar el número de veces que aparece un item en la tupla\n",
    "t.count('uno')"
   ]
  },
  {
   "cell_type": "code",
   "execution_count": null,
   "id": "a1841190",
   "metadata": {},
   "outputs": [],
   "source": [
    "# Las tuplas tampoco pueden crecer\n",
    "t.append('tres')"
   ]
  },
  {
   "cell_type": "markdown",
   "id": "ae64057a",
   "metadata": {},
   "source": [
    "### SETS"
   ]
  },
  {
   "cell_type": "code",
   "execution_count": null,
   "id": "c61ed16c",
   "metadata": {},
   "outputs": [],
   "source": [
    "x = set()\n",
    "type(x)"
   ]
  },
  {
   "cell_type": "code",
   "execution_count": null,
   "id": "9d0fa6cd",
   "metadata": {},
   "outputs": [],
   "source": [
    "# Añadimos elementos con .add(). ¡Fíjate en los corchetes!!!! Como las keys de los diccionarios\n",
    "x.add(1)\n",
    "x"
   ]
  },
  {
   "cell_type": "code",
   "execution_count": null,
   "id": "2e8c5ea5",
   "metadata": {},
   "outputs": [],
   "source": [
    "x.add(2)\n",
    "x"
   ]
  },
  {
   "cell_type": "code",
   "execution_count": null,
   "id": "1f41ae77",
   "metadata": {},
   "outputs": [],
   "source": [
    "# No nos deja añadir duplicados\n",
    "x.add(1)\n",
    "x"
   ]
  },
  {
   "cell_type": "code",
   "execution_count": null,
   "id": "f64ab7d4",
   "metadata": {},
   "outputs": [],
   "source": [
    "# Fíjate que nos elimina los duplicados!\n",
    "list1 = [1,1,2,2,3,4,5,6,1,1]\n",
    "set(list1)"
   ]
  },
  {
   "cell_type": "markdown",
   "id": "7a976d68",
   "metadata": {},
   "source": [
    "### BOOLEANS"
   ]
  },
  {
   "cell_type": "code",
   "execution_count": null,
   "id": "2a1a0475",
   "metadata": {},
   "outputs": [],
   "source": [
    "a = True\n",
    "type(a)"
   ]
  },
  {
   "cell_type": "code",
   "execution_count": null,
   "id": "dc0f90b3",
   "metadata": {},
   "outputs": [],
   "source": [
    "# Aquí la salida sería el booleano\n",
    "1>2"
   ]
  },
  {
   "cell_type": "code",
   "execution_count": null,
   "id": "745e0c24",
   "metadata": {},
   "outputs": [],
   "source": [
    "# None nos sirve para no assignar un tipo de objeto\n",
    "b = None\n",
    "type(b)"
   ]
  },
  {
   "cell_type": "code",
   "execution_count": null,
   "id": "05df477a",
   "metadata": {},
   "outputs": [],
   "source": [
    "# Comparaciones igualdad\n",
    "2==2"
   ]
  },
  {
   "cell_type": "code",
   "execution_count": null,
   "id": "5a7aa696",
   "metadata": {},
   "outputs": [],
   "source": [
    "1==0"
   ]
  },
  {
   "cell_type": "code",
   "execution_count": null,
   "id": "7cc86b98",
   "metadata": {},
   "outputs": [],
   "source": [
    "# No igualdad\n",
    "2 != 1"
   ]
  },
  {
   "cell_type": "code",
   "execution_count": null,
   "id": "86dc2765",
   "metadata": {},
   "outputs": [],
   "source": [
    "# Mayor o menor que\n",
    "2<4"
   ]
  },
  {
   "cell_type": "code",
   "execution_count": null,
   "id": "9539d9f4",
   "metadata": {},
   "outputs": [],
   "source": [
    "# Mayor o menor o igual que\n",
    "2 <=2"
   ]
  },
  {
   "cell_type": "code",
   "execution_count": null,
   "id": "bd32fbb2",
   "metadata": {},
   "outputs": [],
   "source": [
    "# También podemos encadenar operadores de comparación\n",
    "1 < 2 < 3"
   ]
  },
  {
   "cell_type": "code",
   "execution_count": null,
   "id": "5d1e88e2",
   "metadata": {},
   "outputs": [],
   "source": [
    "# O podemos usar AND\n",
    "1<2 and 2<3"
   ]
  },
  {
   "cell_type": "code",
   "execution_count": null,
   "id": "babd1b8f",
   "metadata": {},
   "outputs": [],
   "source": [
    "# También podemos usar OR\n",
    "1 == 2 or 2 <3"
   ]
  }
 ],
 "metadata": {
  "kernelspec": {
   "display_name": "Python 3 (ipykernel)",
   "language": "python",
   "name": "python3"
  },
  "language_info": {
   "codemirror_mode": {
    "name": "ipython",
    "version": 3
   },
   "file_extension": ".py",
   "mimetype": "text/x-python",
   "name": "python",
   "nbconvert_exporter": "python",
   "pygments_lexer": "ipython3",
   "version": "3.11.4"
  }
 },
 "nbformat": 4,
 "nbformat_minor": 5
}
