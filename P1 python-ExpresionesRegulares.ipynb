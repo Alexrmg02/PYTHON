{
 "cells": [
  {
   "cell_type": "markdown",
   "metadata": {},
   "source": [
    "# PRACTICA Expresiones Regulares\n",
    "\n",
    "#### Esta práctica se entrega el día 22 de Octubre a las 23:59\n",
    "#### Cuenta el 5% de la nota\n",
    "\n",
    "#### De la lista de accessions que se proporciona obtén lo siguiente:\n",
    "1. Los que tengan el número 5\n",
    "2. Los que tengan la letra 'd' o la 'e'\n",
    "3. Los que tengan las letras 'd' y 'e' en ese orden\n",
    "4. Los que tengan las letras 'd' y 'e' en ese orden con una letra cualquiera en medio\n",
    "5. Los que tengan ambas letras 'd' y 'e' en cualquier orden\n",
    "6. Los que empiezan por 'x' o por 'y'\n",
    "7. Los que empiezan por 'x' o 'y' y terminan por 'e'\n",
    "8. Los que tienen tres o más dígitos seguidos\n",
    "9. Los que terminan con 'd' seguidos de 'a' o 'r' o 'p'"
   ]
  },
  {
   "cell_type": "code",
   "execution_count": 1,
   "metadata": {},
   "outputs": [],
   "source": [
    "import re"
   ]
  },
  {
   "cell_type": "code",
   "execution_count": 2,
   "metadata": {},
   "outputs": [],
   "source": [
    "accs = ['xkn59438', 'yhdck2', 'eihd39d9', 'chdsye847', 'hedle3455', 'xjhd53e', '45da', 'de37dp']"
   ]
  },
  {
   "cell_type": "code",
   "execution_count": 16,
   "metadata": {},
   "outputs": [
    {
     "name": "stdout",
     "output_type": "stream",
     "text": [
      "Contains 5\n",
      "\txkn59438\n",
      "\thedle3455\n",
      "\txjhd53e\n",
      "\t45da\n"
     ]
    }
   ],
   "source": [
    "# Los que tengan el número 5\n",
    "print(\"Contains 5\")\n",
    "for elemento in accs:\n",
    "    if re.search(r\"5\",elemento):\n",
    "        print(\"\\t\"+elemento)\n",
    "\n",
    "    "
   ]
  },
  {
   "cell_type": "code",
   "execution_count": 17,
   "metadata": {},
   "outputs": [
    {
     "name": "stdout",
     "output_type": "stream",
     "text": [
      "Contains d or e\n",
      "\tyhdck2\n",
      "\teihd39d9\n",
      "\tchdsye847\n",
      "\thedle3455\n",
      "\txjhd53e\n",
      "\t45da\n",
      "\tde37dp\n"
     ]
    }
   ],
   "source": [
    "# Los que tengan la letra 'd' o la 'e'\n",
    "print(\"Contains d or e\")\n",
    "for elemento in accs:\n",
    "    if re.search(r\"d\",elemento) or re.search(r\"e\",elemento):\n",
    "        print(\"\\t\"+elemento)"
   ]
  },
  {
   "cell_type": "code",
   "execution_count": 21,
   "metadata": {},
   "outputs": [
    {
     "name": "stdout",
     "output_type": "stream",
     "text": [
      "Contains d and e en ese orden\n",
      "\tchdsye847\n",
      "\thedle3455\n",
      "\txjhd53e\n",
      "\tde37dp\n"
     ]
    }
   ],
   "source": [
    "# Los que tengan las letras 'd' y 'e' en ese orden\n",
    "print(\"Contains d and e en ese orden\")\n",
    "for elemento in accs:\n",
    "    if re.search(r\"d.*e\",elemento):\n",
    "        print(\"\\t\"+elemento)"
   ]
  },
  {
   "cell_type": "code",
   "execution_count": 23,
   "metadata": {},
   "outputs": [
    {
     "name": "stdout",
     "output_type": "stream",
     "text": [
      "Contains d and e en ese orden con una letra cualquiera en medio\n",
      "\thedle3455\n"
     ]
    }
   ],
   "source": [
    "# Los que tengan las letras 'd' y 'e' en ese orden con una letra cualquiera en medio\n",
    "print(\"Contains d and e en ese orden con una letra cualquiera en medio\")\n",
    "for elemento in accs:\n",
    "    if re.search(r\"(d.e)\",elemento):\n",
    "        print(\"\\t\"+elemento)"
   ]
  },
  {
   "cell_type": "code",
   "execution_count": 24,
   "metadata": {},
   "outputs": [
    {
     "name": "stdout",
     "output_type": "stream",
     "text": [
      "Contains d and e en cualquier orden\n",
      "\teihd39d9\n",
      "\tchdsye847\n",
      "\thedle3455\n",
      "\txjhd53e\n",
      "\tde37dp\n"
     ]
    }
   ],
   "source": [
    "# Los que tengan ambas letras 'd' y 'e' en cualquier orden\n",
    "print(\"Contains d and e en cualquier orden\")\n",
    "for elemento in accs:\n",
    "    if re.search(r\"d\",elemento) and re.search(r\"e\",elemento):\n",
    "        print(\"\\t\"+elemento)"
   ]
  },
  {
   "cell_type": "code",
   "execution_count": 25,
   "metadata": {},
   "outputs": [
    {
     "name": "stdout",
     "output_type": "stream",
     "text": [
      "Empiezan por x o por y\n",
      "\txkn59438\n",
      "\tyhdck2\n",
      "\txjhd53e\n"
     ]
    }
   ],
   "source": [
    "# Los que empiezan por 'x' o por 'y'\n",
    "print(\"Empiezan por x o por y\")\n",
    "for elemento in accs:\n",
    "    if re.search(r\"^(x|y)\",elemento):\n",
    "        print(\"\\t\"+elemento)\n"
   ]
  },
  {
   "cell_type": "code",
   "execution_count": 27,
   "metadata": {},
   "outputs": [
    {
     "name": "stdout",
     "output_type": "stream",
     "text": [
      "Empiezan por x o por y y que termine por e\n",
      "\txjhd53e\n"
     ]
    }
   ],
   "source": [
    "# Los que empiezan por 'x' o 'y' y terminan por 'e'\n",
    "print(\"Empiezan por x o por y y que termine por e\")\n",
    "for elemento in accs:\n",
    "    if re.search(r\"^(x|y).*e$\",elemento):\n",
    "        print(\"\\t\"+elemento)"
   ]
  },
  {
   "cell_type": "code",
   "execution_count": 29,
   "metadata": {
    "scrolled": true
   },
   "outputs": [
    {
     "name": "stdout",
     "output_type": "stream",
     "text": [
      "Tienen tres o mas numeros seguidos\n",
      "\txkn59438\n",
      "\tchdsye847\n",
      "\thedle3455\n"
     ]
    }
   ],
   "source": [
    "# Los que tienen tres o más dígitos seguidos\n",
    "print(\"Tienen tres o mas numeros seguidos\")\n",
    "for elemento in accs:\n",
    "    if re.search(r\"\\d{3,}\",elemento):\n",
    "        print(\"\\t\"+elemento)"
   ]
  },
  {
   "cell_type": "code",
   "execution_count": 34,
   "metadata": {},
   "outputs": [
    {
     "name": "stdout",
     "output_type": "stream",
     "text": [
      "Terminan con d seguidos de a,r,p\n",
      "\t45da\n",
      "\tde37dp\n"
     ]
    }
   ],
   "source": [
    "# Los que terminan con 'd' seguidos de 'a' o 'r' o 'p'\n",
    "print(\"Terminan con d seguidos de a,r,p\")\n",
    "for elemento in accs:\n",
    "    if re.search(r\"d[arp]$\",elemento):\n",
    "        print(\"\\t\"+elemento)"
   ]
  }
 ],
 "metadata": {
  "kernelspec": {
   "display_name": "Python 3 (ipykernel)",
   "language": "python",
   "name": "python3"
  },
  "language_info": {
   "codemirror_mode": {
    "name": "ipython",
    "version": 3
   },
   "file_extension": ".py",
   "mimetype": "text/x-python",
   "name": "python",
   "nbconvert_exporter": "python",
   "pygments_lexer": "ipython3",
   "version": "3.11.4"
  }
 },
 "nbformat": 4,
 "nbformat_minor": 4
}
